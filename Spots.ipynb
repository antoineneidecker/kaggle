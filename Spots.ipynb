{
 "cells": [
  {
   "cell_type": "code",
   "execution_count": 23,
   "metadata": {
    "collapsed": true
   },
   "outputs": [],
   "source": [
    "import numpy as np\n",
    "from PIL import Image"
   ]
  },
  {
   "cell_type": "code",
   "execution_count": 24,
   "metadata": {
    "collapsed": true
   },
   "outputs": [],
   "source": [
    "trainingLink = \"./train_images.npy\"\n",
    "trainIm = np.load(trainingLink,encoding = 'latin1')"
   ]
  },
  {
   "cell_type": "code",
   "execution_count": null,
   "metadata": {
    "collapsed": true
   },
   "outputs": [],
   "source": []
  },
  {
   "cell_type": "code",
   "execution_count": null,
   "metadata": {
    "collapsed": true
   },
   "outputs": [],
   "source": []
  },
  {
   "cell_type": "code",
   "execution_count": 25,
   "metadata": {
    "collapsed": true
   },
   "outputs": [],
   "source": [
    "reshapedList = []\n",
    "for i in range(0, len(trainIm)):\n",
    "    reshapedList.append(trainIm[i][1].reshape(100,100))\n",
    "reshapedImages = np.array(reshapedList)\n",
    "\n"
   ]
  },
  {
   "cell_type": "code",
   "execution_count": null,
   "metadata": {
    "collapsed": true
   },
   "outputs": [],
   "source": []
  },
  {
   "cell_type": "code",
   "execution_count": null,
   "metadata": {
    "collapsed": true
   },
   "outputs": [],
   "source": [
    "\n",
    "\n"
   ]
  },
  {
   "cell_type": "code",
   "execution_count": 26,
   "metadata": {
    "collapsed": true
   },
   "outputs": [],
   "source": [
    "def allPtsInSpot(image, i, j, allpoints, hi):\n",
    "    Check = allpoints\n",
    "    currentNew = hi\n",
    "    Check.append([i, j, image[i, j]])\n",
    "    currentNew.append([i, j, image[i, j]])\n",
    "    if((image[i+1, j] > 2 ) and not([i+1, j, image[i+1, j]] in Check) and (i<99)):\n",
    "        allPtsInSpot(image, i+1, j, Check, currentNew)\n",
    "    if((image[i-1, j] > 2) and not([i-1, j, image[i-1, j]] in Check) and (i>0)):\n",
    "        allPtsInSpot(image, i-1, j, Check, currentNew)\n",
    "    if((image[i, j+1] > 2) and not([i, j+1, image[i, j+1]] in Check) and (j<99)):\n",
    "         allPtsInSpot(image, i, j+1, Check, currentNew)\n",
    "    if((image[i, j-1] > 2) and not([i, j-1, image[i, j-1]] in Check) and (j>0)):\n",
    "        allPtsInSpot(image, i, j-1, Check, currentNew)\n",
    "    return currentNew\n",
    "        \n",
    "    \n",
    "def findDraw(image):\n",
    "    visited = []\n",
    "    spotElements = np.zeros(0)                          \n",
    "    temp = np.zeros(0)\n",
    "    for i in range(0, 100):\n",
    "        for j in range(0,100):\n",
    "            if(image[i,j]!=0 and not([i, j, image[i, j]] in visited)):\n",
    "                temp = allPtsInSpot(image, i, j, visited, [])\n",
    "                if(len(temp)>len(spotElements)):\n",
    "                    spotElements = temp\n",
    "    return spotElements\n",
    "    \n",
    "        "
   ]
  },
  {
   "cell_type": "code",
   "execution_count": 27,
   "metadata": {
    "collapsed": true
   },
   "outputs": [],
   "source": [
    "def resizing(image):\n",
    "    imageNp = np.asarray(image)\n",
    "    xmax, ymax, nope = np.amax(imageNp,axis=0)\n",
    "    xmin, ymin, nope = np.amin(imageNp,axis=0)\n",
    "    \n",
    "    xratio = int(100/(xmax - xmin))\n",
    "    yratio = int(100/(ymax - ymin))\n",
    "    \n",
    "    resizedImage = np.zeros((100,100))\n",
    "    \n",
    "    for i in range(0,np.shape(image)[0]):\n",
    "        xtemp = int(image[i][0] - xmin)\n",
    "        ytemp = int(image[i][1] - ymin)\n",
    "        color = image[i][2]\n",
    "        for pix in range(0, int(xratio)):\n",
    "            currentx = (xratio*xtemp + pix)/1.1\n",
    "            for piy in range(0, int(yratio)):\n",
    "                currenty = (yratio*ytemp + piy)/1.1\n",
    "                resizedImage[int(currentx), int(currenty)] = color\n",
    "    return resizedImage"
   ]
  },
  {
   "cell_type": "code",
   "execution_count": 28,
   "metadata": {
    "collapsed": true
   },
   "outputs": [],
   "source": [
    "for i in range(0,5):\n",
    "    \n",
    "    wantedImage = reshapedImages[i]\n",
    "    \n",
    "    img = Image.fromarray(wantedImage)\n",
    "    img.show()\n",
    "    \n",
    "    image1= findDraw(wantedImage)\n",
    "    resizedIm = resizing(image1)\n",
    "    cropped = Image.fromarray(resizedIm)\n",
    "    cropped.show()"
   ]
  },
  {
   "cell_type": "code",
   "execution_count": null,
   "metadata": {
    "collapsed": true
   },
   "outputs": [],
   "source": []
  },
  {
   "cell_type": "code",
   "execution_count": null,
   "metadata": {
    "collapsed": true
   },
   "outputs": [],
   "source": []
  }
 ],
 "metadata": {
  "kernelspec": {
   "display_name": "Python 3",
   "language": "python",
   "name": "python3"
  },
  "language_info": {
   "codemirror_mode": {
    "name": "ipython",
    "version": 3
   },
   "file_extension": ".py",
   "mimetype": "text/x-python",
   "name": "python",
   "nbconvert_exporter": "python",
   "pygments_lexer": "ipython3",
   "version": "3.6.1"
  }
 },
 "nbformat": 4,
 "nbformat_minor": 2
}
